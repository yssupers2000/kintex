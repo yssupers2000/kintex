{
 "cells": [
  {
   "cell_type": "code",
   "execution_count": null,
   "metadata": {},
   "outputs": [],
   "source": [
    "# 판다스 라이브러리 불러오기\n",
    "import pandas as pd"
   ]
  },
  {
   "cell_type": "code",
   "execution_count": null,
   "metadata": {},
   "outputs": [],
   "source": [
    "# data folder 밑에 있는 rocksamples.csv 파일을 읽어서 rock_samples에 저장\n",
    "rock_samples = pd.read_csv('../data/rocksamples.csv')"
   ]
  },
  {
   "cell_type": "code",
   "execution_count": null,
   "metadata": {},
   "outputs": [],
   "source": [
    "# rock_samples의 최초 5개 행을 출력합니다.\n",
    "rock_samples.head()"
   ]
  },
  {
   "cell_type": "code",
   "execution_count": null,
   "metadata": {},
   "outputs": [],
   "source": [
    "# rock_samples의 마지막 5개 행을 출력합니다.\n",
    "rock_samples.tail()"
   ]
  },
  {
   "cell_type": "code",
   "execution_count": null,
   "metadata": {},
   "outputs": [],
   "source": [
    "# rock_samples의 행수, 컬럼수, 메모리 사용량 등을 확인\n",
    "rock_samples.info()"
   ]
  },
  {
   "cell_type": "code",
   "execution_count": null,
   "metadata": {},
   "outputs": [],
   "source": [
    "# rock_samples의 기초 통계량 출력\n",
    "rock_samples.describe()"
   ]
  },
  {
   "cell_type": "code",
   "execution_count": null,
   "metadata": {},
   "outputs": [],
   "source": [
    "# rock_samples에서 null인 경우 True, 아닌 경우 False로 나타내기\n"
   ]
  },
  {
   "cell_type": "code",
   "execution_count": null,
   "metadata": {},
   "outputs": [],
   "source": [
    "# is_null 함수가 하는 일은?\n",
    "# 1. 데이터프레임의 각 열에 대해 null값이 있는지 확인\n",
    "# 2. null값이 있으면 True, 없으면 False를 반환\n"
   ]
  },
  {
   "cell_type": "code",
   "execution_count": null,
   "metadata": {},
   "outputs": [],
   "source": [
    "# rock_samples에서 각 컬럼이 갖는 누락값의 합\n",
    "rock_samples.isnull().sum()"
   ]
  }
 ],
 "metadata": {
  "kernelspec": {
   "display_name": "Python 3.8.5 64-bit",
   "language": "python",
   "name": "python3"
  },
  "language_info": {
   "codemirror_mode": {
    "name": "ipython",
    "version": 3
   },
   "file_extension": ".py",
   "mimetype": "text/x-python",
   "name": "python",
   "nbconvert_exporter": "python",
   "pygments_lexer": "ipython3",
   "version": "3.8.5"
  },
  "orig_nbformat": 4,
  "vscode": {
   "interpreter": {
    "hash": "395e26f73044ce91130b5b77602098d9e3b42664158b2c4a8dc091c26d6bb4e0"
   }
  }
 },
 "nbformat": 4,
 "nbformat_minor": 2
}
